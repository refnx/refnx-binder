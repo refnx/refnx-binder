{
 "cells": [
  {
   "cell_type": "code",
   "execution_count": null,
   "metadata": {},
   "outputs": [],
   "source": [
    "%matplotlib notebook"
   ]
  },
  {
   "cell_type": "code",
   "execution_count": null,
   "metadata": {},
   "outputs": [],
   "source": [
    "import urllib.request\n",
    "import numpy as np\n",
    "from refnx.reflect import Motofit\n",
    "from refnx.dataset import ReflectDataset"
   ]
  },
  {
   "cell_type": "code",
   "execution_count": null,
   "metadata": {},
   "outputs": [],
   "source": [
    "# grab a dataset, using urllib to do this. Another way would be to fork the repo\n",
    "# and add a datafile to the refnx-binder repo\n",
    "url = 'https://raw.githubusercontent.com/refnx/refnx/master/examples/global_fitting_motofit/e361r.txt'\n",
    "with urllib.request.urlopen(url) as f:\n",
    "    arr = np.loadtxt(f)\n",
    "    d = ReflectDataset(data=[arr[:, i] for i in range(np.size(arr, 1))])\n",
    "    d.name = 'e361r.txt'"
   ]
  },
  {
   "cell_type": "code",
   "execution_count": null,
   "metadata": {},
   "outputs": [],
   "source": [
    "app = Motofit()"
   ]
  },
  {
   "cell_type": "code",
   "execution_count": null,
   "metadata": {},
   "outputs": [],
   "source": [
    "app(data=d)"
   ]
  }
 ],
 "metadata": {
  "kernelspec": {
   "display_name": "Python 3",
   "language": "python",
   "name": "python3"
  },
  "language_info": {
   "codemirror_mode": {
    "name": "ipython",
    "version": 3
   },
   "file_extension": ".py",
   "mimetype": "text/x-python",
   "name": "python",
   "nbconvert_exporter": "python",
   "pygments_lexer": "ipython3",
   "version": "3.6.5"
  }
 },
 "nbformat": 4,
 "nbformat_minor": 2
}
